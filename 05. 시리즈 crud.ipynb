{
 "cells": [
  {
   "cell_type": "code",
   "execution_count": 1,
   "id": "0d51d3c6",
   "metadata": {},
   "outputs": [],
   "source": [
    "#생성, 추가, 수정, 삭제"
   ]
  },
  {
   "cell_type": "code",
   "execution_count": 2,
   "id": "e476b413",
   "metadata": {},
   "outputs": [],
   "source": [
    "import pandas as pd\n",
    "import numpy as np"
   ]
  },
  {
   "cell_type": "code",
   "execution_count": 11,
   "id": "7f3f6445",
   "metadata": {},
   "outputs": [],
   "source": [
    "data1=[10,20,30,40,50]\n",
    "\n",
    "sr=pd.Series(data1,index=[\"a\",\"b\",\"c\",\"d\",\"e\"],name=\"kor\")"
   ]
  },
  {
   "cell_type": "code",
   "execution_count": 4,
   "id": "9e056065",
   "metadata": {},
   "outputs": [
    {
     "data": {
      "text/plain": [
       "10"
      ]
     },
     "execution_count": 4,
     "metadata": {},
     "output_type": "execute_result"
    }
   ],
   "source": [
    "sr[0]"
   ]
  },
  {
   "cell_type": "code",
   "execution_count": 5,
   "id": "16e0a084",
   "metadata": {},
   "outputs": [],
   "source": [
    "sr[0]=100"
   ]
  },
  {
   "cell_type": "code",
   "execution_count": 6,
   "id": "0a3275df",
   "metadata": {},
   "outputs": [
    {
     "data": {
      "text/plain": [
       "a    100\n",
       "b     20\n",
       "c     30\n",
       "d     40\n",
       "e     50\n",
       "Name: kor, dtype: int64"
      ]
     },
     "execution_count": 6,
     "metadata": {},
     "output_type": "execute_result"
    }
   ],
   "source": [
    "sr"
   ]
  },
  {
   "cell_type": "code",
   "execution_count": 7,
   "id": "7bcb9224",
   "metadata": {},
   "outputs": [],
   "source": [
    "sr[1:4]=[1,2,3]"
   ]
  },
  {
   "cell_type": "code",
   "execution_count": 8,
   "id": "d777c877",
   "metadata": {},
   "outputs": [
    {
     "data": {
      "text/plain": [
       "a    100\n",
       "b      1\n",
       "c      2\n",
       "d      3\n",
       "e     50\n",
       "Name: kor, dtype: int64"
      ]
     },
     "execution_count": 8,
     "metadata": {},
     "output_type": "execute_result"
    }
   ],
   "source": [
    "sr"
   ]
  },
  {
   "cell_type": "code",
   "execution_count": 9,
   "id": "1fb035be",
   "metadata": {},
   "outputs": [],
   "source": [
    "sr[1:4]=sr[1:4]+2"
   ]
  },
  {
   "cell_type": "code",
   "execution_count": 10,
   "id": "93161cf2",
   "metadata": {},
   "outputs": [
    {
     "data": {
      "text/plain": [
       "a    100\n",
       "b      3\n",
       "c      4\n",
       "d      5\n",
       "e     50\n",
       "Name: kor, dtype: int64"
      ]
     },
     "execution_count": 10,
     "metadata": {},
     "output_type": "execute_result"
    }
   ],
   "source": [
    "sr"
   ]
  },
  {
   "cell_type": "code",
   "execution_count": 12,
   "id": "7e043eaf",
   "metadata": {},
   "outputs": [
    {
     "data": {
      "text/plain": [
       "a    10\n",
       "b    20\n",
       "c    35\n",
       "d    45\n",
       "e    55\n",
       "Name: kor, dtype: int64"
      ]
     },
     "execution_count": 12,
     "metadata": {},
     "output_type": "execute_result"
    }
   ],
   "source": [
    "#30이상인 데이터에 5를 더한 값으로 수정하시오.\n",
    "sr[sr>=30]=sr[sr>=30]+5\n",
    "sr"
   ]
  },
  {
   "cell_type": "code",
   "execution_count": 13,
   "id": "de36d4f9",
   "metadata": {},
   "outputs": [],
   "source": [
    "sr['f']=100"
   ]
  },
  {
   "cell_type": "code",
   "execution_count": 14,
   "id": "23fe770d",
   "metadata": {},
   "outputs": [
    {
     "data": {
      "text/plain": [
       "b     20\n",
       "c     35\n",
       "d     45\n",
       "e     55\n",
       "f    100\n",
       "Name: kor, dtype: int64"
      ]
     },
     "execution_count": 14,
     "metadata": {},
     "output_type": "execute_result"
    }
   ],
   "source": [
    "sr.drop('a')"
   ]
  },
  {
   "cell_type": "code",
   "execution_count": null,
   "id": "031171ba",
   "metadata": {},
   "outputs": [],
   "source": []
  },
  {
   "cell_type": "code",
   "execution_count": 15,
   "id": "955b3182",
   "metadata": {},
   "outputs": [],
   "source": [
    "sr[0]=100"
   ]
  },
  {
   "cell_type": "code",
   "execution_count": 17,
   "id": "5fa7556b",
   "metadata": {},
   "outputs": [
    {
     "data": {
      "text/plain": [
       "b     20\n",
       "c     35\n",
       "d     45\n",
       "e     55\n",
       "a    100\n",
       "f    100\n",
       "Name: kor, dtype: int64"
      ]
     },
     "execution_count": 17,
     "metadata": {},
     "output_type": "execute_result"
    }
   ],
   "source": [
    "sr.sort_values()"
   ]
  },
  {
   "cell_type": "code",
   "execution_count": 19,
   "id": "c3246f17",
   "metadata": {},
   "outputs": [
    {
     "data": {
      "text/plain": [
       "a    100\n",
       "f    100\n",
       "e     55\n",
       "d     45\n",
       "c     35\n",
       "b     20\n",
       "Name: kor, dtype: int64"
      ]
     },
     "execution_count": 19,
     "metadata": {},
     "output_type": "execute_result"
    }
   ],
   "source": [
    "sr.sort_values(ascending=False)"
   ]
  },
  {
   "cell_type": "code",
   "execution_count": 20,
   "id": "bd29338b",
   "metadata": {},
   "outputs": [
    {
     "data": {
      "text/plain": [
       "a    100\n",
       "b     20\n",
       "c     35\n",
       "d     45\n",
       "e     55\n",
       "f    100\n",
       "Name: kor, dtype: int64"
      ]
     },
     "execution_count": 20,
     "metadata": {},
     "output_type": "execute_result"
    }
   ],
   "source": [
    "sr.sort_index()"
   ]
  },
  {
   "cell_type": "code",
   "execution_count": 22,
   "id": "3f889177",
   "metadata": {},
   "outputs": [
    {
     "data": {
      "text/plain": [
       "f    100\n",
       "e     55\n",
       "d     45\n",
       "c     35\n",
       "b     20\n",
       "a    100\n",
       "Name: kor, dtype: int64"
      ]
     },
     "execution_count": 22,
     "metadata": {},
     "output_type": "execute_result"
    }
   ],
   "source": [
    "sr.sort_index(ascending=False)"
   ]
  },
  {
   "cell_type": "code",
   "execution_count": null,
   "id": "cc06e056",
   "metadata": {},
   "outputs": [],
   "source": []
  }
 ],
 "metadata": {
  "kernelspec": {
   "display_name": "Python 3 (ipykernel)",
   "language": "python",
   "name": "python3"
  },
  "language_info": {
   "codemirror_mode": {
    "name": "ipython",
    "version": 3
   },
   "file_extension": ".py",
   "mimetype": "text/x-python",
   "name": "python",
   "nbconvert_exporter": "python",
   "pygments_lexer": "ipython3",
   "version": "3.9.7"
  }
 },
 "nbformat": 4,
 "nbformat_minor": 5
}
