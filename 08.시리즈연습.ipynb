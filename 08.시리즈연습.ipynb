{
 "cells": [
  {
   "cell_type": "code",
   "execution_count": 1,
   "id": "82b90c72",
   "metadata": {},
   "outputs": [],
   "source": [
    "import pandas as pd\n",
    "import numpy as np\n",
    "import matplotlib.pyplot as plt\n",
    "import matplotlib\n",
    "matplotlib.rcParams['font.family']=\"Malgun Gothic\""
   ]
  },
  {
   "cell_type": "code",
   "execution_count": 2,
   "id": "e61b24c5",
   "metadata": {},
   "outputs": [],
   "source": [
    "matplotlib.rcParams['axes.unicode_minus']=False"
   ]
  },
  {
   "cell_type": "code",
   "execution_count": 3,
   "id": "89436877",
   "metadata": {},
   "outputs": [],
   "source": [
    "sr=pd.Series([90,90,55,60,76,80,76,88,30,25],name='국어점수')\n",
    "sr.index=['홍길동','이순신','임꺽정','정난정','이이','이황','정도전','김철수','김응수','김현수']"
   ]
  },
  {
   "cell_type": "code",
   "execution_count": 4,
   "id": "4c97bc8f",
   "metadata": {},
   "outputs": [
    {
     "data": {
      "text/plain": [
       "홍길동    90\n",
       "이순신    90\n",
       "임꺽정    55\n",
       "정난정    60\n",
       "이이     76\n",
       "이황     80\n",
       "정도전    76\n",
       "김철수    88\n",
       "김응수    30\n",
       "김현수    25\n",
       "Name: 국어점수, dtype: int64"
      ]
     },
     "execution_count": 4,
     "metadata": {},
     "output_type": "execute_result"
    }
   ],
   "source": [
    "sr"
   ]
  },
  {
   "cell_type": "code",
   "execution_count": null,
   "id": "df7bca96",
   "metadata": {},
   "outputs": [],
   "source": []
  },
  {
   "cell_type": "code",
   "execution_count": 5,
   "id": "ac95fb82",
   "metadata": {},
   "outputs": [
    {
     "data": {
      "text/plain": [
       "90"
      ]
     },
     "execution_count": 5,
     "metadata": {},
     "output_type": "execute_result"
    }
   ],
   "source": [
    "#1.국어점수가 가장 큰값을 구하시오.\n",
    "sr.max()"
   ]
  },
  {
   "cell_type": "code",
   "execution_count": null,
   "id": "502cf779",
   "metadata": {},
   "outputs": [],
   "source": []
  },
  {
   "cell_type": "code",
   "execution_count": 6,
   "id": "60e6fa74",
   "metadata": {},
   "outputs": [
    {
     "data": {
      "text/plain": [
       "Index(['홍길동', '이순신'], dtype='object')"
      ]
     },
     "execution_count": 6,
     "metadata": {},
     "output_type": "execute_result"
    }
   ],
   "source": [
    "#2.국어점수가 가장 큰값의 이름을 구하시오.\n",
    "mx=sr.max()\n",
    "sr[sr==mx].index"
   ]
  },
  {
   "cell_type": "code",
   "execution_count": 7,
   "id": "8f6ccdce",
   "metadata": {},
   "outputs": [
    {
     "data": {
      "text/plain": [
       "홍길동    90\n",
       "이순신    90\n",
       "이황     80\n",
       "김철수    88\n",
       "Name: 국어점수, dtype: int64"
      ]
     },
     "execution_count": 7,
     "metadata": {},
     "output_type": "execute_result"
    }
   ],
   "source": [
    "#3.국어점수가 80점 이상인 값을 구하시오.\n",
    "sr[sr>=80]"
   ]
  },
  {
   "cell_type": "code",
   "execution_count": 8,
   "id": "9f70a135",
   "metadata": {},
   "outputs": [
    {
     "data": {
      "text/plain": [
       "임꺽정    55\n",
       "정난정    60\n",
       "이이     76\n",
       "이황     80\n",
       "정도전    76\n",
       "Name: 국어점수, dtype: int64"
      ]
     },
     "execution_count": 8,
     "metadata": {},
     "output_type": "execute_result"
    }
   ],
   "source": [
    "#4.국어 점수가 50점 이상 80점 이하인 값을 구하시오.\n",
    "sr[(sr>=50)&(sr<=80)]"
   ]
  },
  {
   "cell_type": "code",
   "execution_count": 9,
   "id": "d4097a9d",
   "metadata": {},
   "outputs": [
    {
     "data": {
      "text/plain": [
       "김철수    88\n",
       "김응수    30\n",
       "김현수    25\n",
       "Name: 국어점수, dtype: int64"
      ]
     },
     "execution_count": 9,
     "metadata": {},
     "output_type": "execute_result"
    }
   ],
   "source": [
    "#5.이름이 김으로 시작하는 데이터를 구하시오.\n",
    "sr[sr.index.str.contains('^김')]"
   ]
  },
  {
   "cell_type": "code",
   "execution_count": 10,
   "id": "caef1239",
   "metadata": {},
   "outputs": [
    {
     "data": {
      "text/plain": [
       "67.0"
      ]
     },
     "execution_count": 10,
     "metadata": {},
     "output_type": "execute_result"
    }
   ],
   "source": [
    "#6.국어점수의 평균을 구하시오.\n",
    "sr.mean()"
   ]
  },
  {
   "cell_type": "code",
   "execution_count": 11,
   "id": "63d61e96",
   "metadata": {},
   "outputs": [
    {
     "data": {
      "text/plain": [
       "670"
      ]
     },
     "execution_count": 11,
     "metadata": {},
     "output_type": "execute_result"
    }
   ],
   "source": [
    "#7.국어점수의 총합을 구하시오.\n",
    "sr.sum()"
   ]
  },
  {
   "cell_type": "code",
   "execution_count": 12,
   "id": "0f2358e6",
   "metadata": {},
   "outputs": [
    {
     "data": {
      "text/plain": [
       "23.935097428021656"
      ]
     },
     "execution_count": 12,
     "metadata": {},
     "output_type": "execute_result"
    }
   ],
   "source": [
    "#8.국어점수의 표준편차를 구하시오.\n",
    "sr.std()"
   ]
  },
  {
   "cell_type": "code",
   "execution_count": 16,
   "id": "bb6ecb6d",
   "metadata": {},
   "outputs": [
    {
     "data": {
      "text/plain": [
       "홍길동    90\n",
       "이순신    90\n",
       "임꺽정    55\n",
       "정난정    60\n",
       "이이     76\n",
       "이황     80\n",
       "정도전    76\n",
       "김철수    88\n",
       "Name: 국어점수, dtype: int64"
      ]
     },
     "execution_count": 16,
     "metadata": {},
     "output_type": "execute_result"
    }
   ],
   "source": [
    "#9.국어점수가 40점 이하인 데이터를 삭제하시오.\n",
    "sr.drop(sr[sr<=40].index)"
   ]
  },
  {
   "cell_type": "code",
   "execution_count": 40,
   "id": "dc548981",
   "metadata": {},
   "outputs": [
    {
     "data": {
      "text/plain": [
       "홍길동    99.0\n",
       "이순신    99.0\n",
       "임꺽정    60.5\n",
       "정난정    66.0\n",
       "이이     83.6\n",
       "이황     88.0\n",
       "정도전    83.6\n",
       "김철수    96.8\n",
       "김응수    36.0\n",
       "김현수    30.0\n",
       "Name: 국어점수, dtype: float64"
      ]
     },
     "execution_count": 40,
     "metadata": {},
     "output_type": "execute_result"
    }
   ],
   "source": [
    "#10.국어점수가 50점 이상인 데이터에 가산점 10%를 미만인경우는 20%를 부여하시오.\n",
    "sr.apply(lambda v: v*1.1 if v>=50 else v*1.2)"
   ]
  },
  {
   "cell_type": "code",
   "execution_count": 17,
   "id": "3e8431f2",
   "metadata": {},
   "outputs": [
    {
     "data": {
      "text/plain": [
       "홍길동    90\n",
       "이순신    90\n",
       "김철수    88\n",
       "이황     80\n",
       "이이     76\n",
       "Name: 국어점수, dtype: int64"
      ]
     },
     "execution_count": 17,
     "metadata": {},
     "output_type": "execute_result"
    }
   ],
   "source": [
    "#11.국어점수 top5를 구하시오.\n",
    "sr.nlargest(5)"
   ]
  },
  {
   "cell_type": "code",
   "execution_count": 52,
   "id": "e5afa474",
   "metadata": {},
   "outputs": [
    {
     "data": {
      "image/png": "[encoded data removed]",
      "text/plain": [
       "<Figure size 432x288 with 1 Axes>"
      ]
     },
     "metadata": {
      "needs_background": "light"
     },
     "output_type": "display_data"
    }
   ],
   "source": [
    "#12.국어점수가 50점 이상인 데이터의 바차트를 그리시오.\n",
    "sr[sr>=50].plot(kind=\"bar\")\n",
    "plt.show()\n"
   ]
  },
  {
   "cell_type": "code",
   "execution_count": 25,
   "id": "e33cc3ff",
   "metadata": {},
   "outputs": [
    {
     "data": {
      "text/plain": [
       "(70, 100]    6\n",
       "(0, 50]      2\n",
       "(50, 70]     2\n",
       "Name: 국어점수, dtype: int64"
      ]
     },
     "execution_count": 25,
     "metadata": {},
     "output_type": "execute_result"
    }
   ],
   "source": [
    "#13.국어점수의 범위(0~50,50~70,70~100)별 돗수를 구하시오.\n",
    "pd.cut(sr,[0,50,70,100]).value_counts()"
   ]
  },
  {
   "cell_type": "code",
   "execution_count": 57,
   "id": "2bac7803",
   "metadata": {},
   "outputs": [
    {
     "name": "stdout",
     "output_type": "stream",
     "text": [
      "홍길동\t90\t합격\n",
      "이순신\t90\t합격\n",
      "임꺽정\t55\t불합격\n",
      "정난정\t60\t불합격\n",
      "이이\t76\t합격\n",
      "이황\t80\t합격\n",
      "정도전\t76\t합격\n",
      "김철수\t88\t합격\n",
      "김응수\t30\t불합격\n",
      "김현수\t25\t불합격\n"
     ]
    }
   ],
   "source": [
    "#14.아래처럼 구하시오.(70점 이상 합격)\n",
    "sr.columns=[\"이름\",\"국어\",\"합격여부\"]\n",
    "\n",
    "for i,v in sr.items():\n",
    "    print(i,v, \"합격\" if v>=70 else \"불합격\", sep=\"\\t\")"
   ]
  },
  {
   "cell_type": "code",
   "execution_count": null,
   "id": "ec56ec05",
   "metadata": {},
   "outputs": [],
   "source": []
  },
  {
   "cell_type": "code",
   "execution_count": null,
   "id": "eacf28d8",
   "metadata": {},
   "outputs": [],
   "source": []
  },
  {
   "cell_type": "code",
   "execution_count": null,
   "id": "ea2842f0",
   "metadata": {},
   "outputs": [],
   "source": []
  },
  {
   "cell_type": "code",
   "execution_count": null,
   "id": "6c7ec575",
   "metadata": {},
   "outputs": [],
   "source": []
  },
  {
   "cell_type": "code",
   "execution_count": null,
   "id": "d085019e",
   "metadata": {},
   "outputs": [],
   "source": []
  }
 ],
 "metadata": {
  "kernelspec": {
   "display_name": "Python 3 (ipykernel)",
   "language": "python",
   "name": "python3"
  },
  "language_info": {
   "codemirror_mode": {
    "name": "ipython",
    "version": 3
   },
   "file_extension": ".py",
   "mimetype": "text/x-python",
   "name": "python",
   "nbconvert_exporter": "python",
   "pygments_lexer": "ipython3",
   "version": "3.9.7"
  }
 },
 "nbformat": 4,
 "nbformat_minor": 5
}
