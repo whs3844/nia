{
 "cells": [
  {
   "cell_type": "code",
   "execution_count": 1,
   "id": "788b1681",
   "metadata": {},
   "outputs": [],
   "source": [
    "import pandas as pd\n",
    "import numpy as np"
   ]
  },
  {
   "cell_type": "code",
   "execution_count": 2,
   "id": "938f8b4e",
   "metadata": {},
   "outputs": [
    {
     "data": {
      "text/plain": [
       "a    10\n",
       "b    20\n",
       "c    30\n",
       "d    40\n",
       "e    50\n",
       "Name: ko, dtype: int64"
      ]
     },
     "execution_count": 2,
     "metadata": {},
     "output_type": "execute_result"
    }
   ],
   "source": [
    "data1=[10,20,30,40,50]\n",
    "\n",
    "sr=pd.Series(data1,index=[\"a\",\"b\",\"c\",\"d\",\"e\"],name=\"ko\")\n",
    "sr"
   ]
  },
  {
   "cell_type": "code",
   "execution_count": 3,
   "id": "e3b81a43",
   "metadata": {},
   "outputs": [
    {
     "data": {
      "text/plain": [
       "a    11\n",
       "b    21\n",
       "c    31\n",
       "d    41\n",
       "e    51\n",
       "Name: ko, dtype: int64"
      ]
     },
     "execution_count": 3,
     "metadata": {},
     "output_type": "execute_result"
    }
   ],
   "source": [
    "sr+1"
   ]
  },
  {
   "cell_type": "code",
   "execution_count": 4,
   "id": "5e9e36bc",
   "metadata": {},
   "outputs": [
    {
     "data": {
      "text/plain": [
       "a     8\n",
       "b    18\n",
       "c    28\n",
       "d    38\n",
       "e    48\n",
       "Name: ko, dtype: int64"
      ]
     },
     "execution_count": 4,
     "metadata": {},
     "output_type": "execute_result"
    }
   ],
   "source": [
    "sr-2"
   ]
  },
  {
   "cell_type": "code",
   "execution_count": 5,
   "id": "ba79c94c",
   "metadata": {},
   "outputs": [
    {
     "data": {
      "text/plain": [
       "a     20\n",
       "b     40\n",
       "c     60\n",
       "d     80\n",
       "e    100\n",
       "Name: ko, dtype: int64"
      ]
     },
     "execution_count": 5,
     "metadata": {},
     "output_type": "execute_result"
    }
   ],
   "source": [
    "sr*2"
   ]
  },
  {
   "cell_type": "code",
   "execution_count": 6,
   "id": "8d3421c8",
   "metadata": {},
   "outputs": [
    {
     "data": {
      "text/plain": [
       "a    10\n",
       "c    30\n",
       "e    50\n",
       "Name: ko, dtype: int64"
      ]
     },
     "execution_count": 6,
     "metadata": {},
     "output_type": "execute_result"
    }
   ],
   "source": [
    "sr[0::2]"
   ]
  },
  {
   "cell_type": "code",
   "execution_count": 7,
   "id": "3717253f",
   "metadata": {},
   "outputs": [
    {
     "data": {
      "text/plain": [
       "a    10\n",
       "b    20\n",
       "e    50\n",
       "Name: ko, dtype: int64"
      ]
     },
     "execution_count": 7,
     "metadata": {},
     "output_type": "execute_result"
    }
   ],
   "source": [
    "sr[[0,1,4]]"
   ]
  },
  {
   "cell_type": "code",
   "execution_count": 8,
   "id": "3784b1b8",
   "metadata": {},
   "outputs": [
    {
     "data": {
      "text/plain": [
       "a    10\n",
       "b    20\n",
       "e    50\n",
       "Name: ko, dtype: int64"
      ]
     },
     "execution_count": 8,
     "metadata": {},
     "output_type": "execute_result"
    }
   ],
   "source": [
    "sr[[True,True,False,False,True]]"
   ]
  },
  {
   "cell_type": "code",
   "execution_count": 9,
   "id": "09177853",
   "metadata": {},
   "outputs": [
    {
     "data": {
      "text/plain": [
       "a    False\n",
       "b    False\n",
       "c     True\n",
       "d     True\n",
       "e     True\n",
       "Name: ko, dtype: bool"
      ]
     },
     "execution_count": 9,
     "metadata": {},
     "output_type": "execute_result"
    }
   ],
   "source": [
    "sr>=30"
   ]
  },
  {
   "cell_type": "code",
   "execution_count": 10,
   "id": "fd3747d6",
   "metadata": {},
   "outputs": [
    {
     "data": {
      "text/plain": [
       "c    30\n",
       "d    40\n",
       "e    50\n",
       "Name: ko, dtype: int64"
      ]
     },
     "execution_count": 10,
     "metadata": {},
     "output_type": "execute_result"
    }
   ],
   "source": [
    "sr[sr>=30]#sr[[False,False,True,True,True]]"
   ]
  },
  {
   "cell_type": "code",
   "execution_count": 11,
   "id": "33348946",
   "metadata": {},
   "outputs": [
    {
     "data": {
      "text/plain": [
       "a    False\n",
       "b    False\n",
       "c     True\n",
       "d    False\n",
       "e     True\n",
       "Name: ko, dtype: bool"
      ]
     },
     "execution_count": 11,
     "metadata": {},
     "output_type": "execute_result"
    }
   ],
   "source": [
    "(sr==30)|(sr==50)"
   ]
  },
  {
   "cell_type": "code",
   "execution_count": 12,
   "id": "ef6f5219",
   "metadata": {},
   "outputs": [
    {
     "data": {
      "text/plain": [
       "a    False\n",
       "b     True\n",
       "c     True\n",
       "d     True\n",
       "e    False\n",
       "Name: ko, dtype: bool"
      ]
     },
     "execution_count": 12,
     "metadata": {},
     "output_type": "execute_result"
    }
   ],
   "source": [
    "(sr>=20)&(sr<=40)"
   ]
  },
  {
   "cell_type": "code",
   "execution_count": 13,
   "id": "0ff53f6d",
   "metadata": {},
   "outputs": [
    {
     "data": {
      "text/plain": [
       "a    10\n",
       "Name: ko, dtype: int64"
      ]
     },
     "execution_count": 13,
     "metadata": {},
     "output_type": "execute_result"
    }
   ],
   "source": [
    "sr[~(sr>=20)&(sr<=40)]"
   ]
  },
  {
   "cell_type": "code",
   "execution_count": null,
   "id": "5c626190",
   "metadata": {},
   "outputs": [],
   "source": []
  },
  {
   "cell_type": "code",
   "execution_count": 14,
   "id": "e6df7ce2",
   "metadata": {},
   "outputs": [],
   "source": [
    "salary=pd.Series([1000,2000,3000,4000])"
   ]
  },
  {
   "cell_type": "code",
   "execution_count": 16,
   "id": "21622371",
   "metadata": {},
   "outputs": [
    {
     "data": {
      "text/plain": [
       "0     967.0\n",
       "1    1934.0\n",
       "2    2901.0\n",
       "3    3868.0\n",
       "dtype: float64"
      ]
     },
     "execution_count": 16,
     "metadata": {},
     "output_type": "execute_result"
    }
   ],
   "source": [
    "salary*(1-0.033)"
   ]
  },
  {
   "cell_type": "code",
   "execution_count": 17,
   "id": "a1f957c3",
   "metadata": {},
   "outputs": [
    {
     "data": {
      "text/plain": [
       "b    20\n",
       "e    50\n",
       "Name: ko, dtype: int64"
      ]
     },
     "execution_count": 17,
     "metadata": {},
     "output_type": "execute_result"
    }
   ],
   "source": [
    "sr[[1,4]]"
   ]
  },
  {
   "cell_type": "code",
   "execution_count": null,
   "id": "9b3b6b57",
   "metadata": {},
   "outputs": [],
   "source": []
  }
 ],
 "metadata": {
  "kernelspec": {
   "display_name": "Python 3 (ipykernel)",
   "language": "python",
   "name": "python3"
  },
  "language_info": {
   "codemirror_mode": {
    "name": "ipython",
    "version": 3
   },
   "file_extension": ".py",
   "mimetype": "text/x-python",
   "name": "python",
   "nbconvert_exporter": "python",
   "pygments_lexer": "ipython3",
   "version": "3.9.7"
  }
 },
 "nbformat": 4,
 "nbformat_minor": 5
}
