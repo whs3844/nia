{
 "cells": [
  {
   "cell_type": "code",
   "execution_count": 1,
   "id": "69e99771",
   "metadata": {},
   "outputs": [],
   "source": [
    "import pandas as pd"
   ]
  },
  {
   "cell_type": "code",
   "execution_count": 2,
   "id": "6f744b51",
   "metadata": {},
   "outputs": [],
   "source": [
    "import numpy as np"
   ]
  },
  {
   "cell_type": "code",
   "execution_count": 3,
   "id": "4894c3f1",
   "metadata": {},
   "outputs": [],
   "source": [
    "data1=[10,20,30,40,50]\n",
    "data2=(1,2,3,4,5)\n",
    "data3={'aa':11,'bb':22,'cc':33,'dd':44}"
   ]
  },
  {
   "cell_type": "code",
   "execution_count": 7,
   "id": "3d845480",
   "metadata": {
    "scrolled": false
   },
   "outputs": [
    {
     "data": {
      "text/plain": [
       "0    10\n",
       "1    20\n",
       "2    30\n",
       "3    40\n",
       "4    50\n",
       "dtype: int64"
      ]
     },
     "execution_count": 7,
     "metadata": {},
     "output_type": "execute_result"
    }
   ],
   "source": [
    "sr=pd.Series(data1)\n",
    "sr"
   ]
  },
  {
   "cell_type": "code",
   "execution_count": 5,
   "id": "e022a66e",
   "metadata": {},
   "outputs": [
    {
     "data": {
      "text/plain": [
       "0    1\n",
       "1    2\n",
       "2    3\n",
       "3    4\n",
       "4    5\n",
       "dtype: int64"
      ]
     },
     "execution_count": 5,
     "metadata": {},
     "output_type": "execute_result"
    }
   ],
   "source": [
    "sr1=pd.Series(data2)\n",
    "sr1"
   ]
  },
  {
   "cell_type": "code",
   "execution_count": 6,
   "id": "c6e36994",
   "metadata": {},
   "outputs": [
    {
     "data": {
      "text/plain": [
       "aa    11\n",
       "bb    22\n",
       "cc    33\n",
       "dd    44\n",
       "dtype: int64"
      ]
     },
     "execution_count": 6,
     "metadata": {},
     "output_type": "execute_result"
    }
   ],
   "source": [
    "sr2=pd.Series(data3)\n",
    "sr2"
   ]
  },
  {
   "cell_type": "code",
   "execution_count": 8,
   "id": "659a8bdd",
   "metadata": {},
   "outputs": [
    {
     "data": {
      "text/plain": [
       "a    10\n",
       "b    20\n",
       "c    30\n",
       "d    40\n",
       "e    50\n",
       "dtype: int64"
      ]
     },
     "execution_count": 8,
     "metadata": {},
     "output_type": "execute_result"
    }
   ],
   "source": [
    "sr=pd.Series(data1,index=['a','b','c','d','e'])\n",
    "sr"
   ]
  },
  {
   "cell_type": "code",
   "execution_count": 9,
   "id": "3262ecda",
   "metadata": {},
   "outputs": [
    {
     "data": {
      "text/plain": [
       "a    10\n",
       "b    20\n",
       "c    30\n",
       "d    40\n",
       "e    50\n",
       "dtype: int32"
      ]
     },
     "execution_count": 9,
     "metadata": {},
     "output_type": "execute_result"
    }
   ],
   "source": [
    "sr=pd.Series(data1,index=['a','b','c','d','e'],dtype=np.int32)\n",
    "sr"
   ]
  },
  {
   "cell_type": "code",
   "execution_count": 10,
   "id": "1a7b1cd2",
   "metadata": {},
   "outputs": [
    {
     "data": {
      "text/plain": [
       "a    10.0\n",
       "b    20.0\n",
       "c    30.0\n",
       "d    40.0\n",
       "e    50.0\n",
       "dtype: float32"
      ]
     },
     "execution_count": 10,
     "metadata": {},
     "output_type": "execute_result"
    }
   ],
   "source": [
    "sr=pd.Series(data1,index=['a','b','c','d','e'],dtype=np.float32)\n",
    "sr"
   ]
  },
  {
   "cell_type": "code",
   "execution_count": 12,
   "id": "66d479e8",
   "metadata": {},
   "outputs": [
    {
     "name": "stderr",
     "output_type": "stream",
     "text": [
      "C:\\Users\\whs38\\AppData\\Local\\Temp/ipykernel_14668/2621763891.py:1: DeprecationWarning: `np.str` is a deprecated alias for the builtin `str`. To silence this warning, use `str` by itself. Doing this will not modify any behavior and is safe. If you specifically wanted the numpy scalar type, use `np.str_` here.\n",
      "Deprecated in NumPy 1.20; for more details and guidance: https://numpy.org/devdocs/release/1.20.0-notes.html#deprecations\n",
      "  sr=pd.Series(data1,index=['a','b','c','d','e'],dtype=np.str)\n"
     ]
    },
    {
     "data": {
      "text/plain": [
       "a    10\n",
       "b    20\n",
       "c    30\n",
       "d    40\n",
       "e    50\n",
       "dtype: object"
      ]
     },
     "execution_count": 12,
     "metadata": {},
     "output_type": "execute_result"
    }
   ],
   "source": [
    "sr=pd.Series(data1,index=['a','b','c','d','e'],dtype=np.str)\n",
    "sr"
   ]
  },
  {
   "cell_type": "code",
   "execution_count": 13,
   "id": "b392cb4b",
   "metadata": {},
   "outputs": [
    {
     "data": {
      "text/plain": [
       "a    10\n",
       "b    20\n",
       "c    30\n",
       "d    40\n",
       "e    50\n",
       "Name: kor, dtype: int64"
      ]
     },
     "execution_count": 13,
     "metadata": {},
     "output_type": "execute_result"
    }
   ],
   "source": [
    "sr=pd.Series(data1,index=['a','b','c','d','e'],name='kor')\n",
    "sr"
   ]
  },
  {
   "cell_type": "code",
   "execution_count": 14,
   "id": "455ba1ff",
   "metadata": {},
   "outputs": [
    {
     "data": {
      "text/plain": [
       "10"
      ]
     },
     "execution_count": 14,
     "metadata": {},
     "output_type": "execute_result"
    }
   ],
   "source": [
    "sr['a']"
   ]
  },
  {
   "cell_type": "code",
   "execution_count": null,
   "id": "e1603f49",
   "metadata": {},
   "outputs": [],
   "source": []
  }
 ],
 "metadata": {
  "kernelspec": {
   "display_name": "Python 3 (ipykernel)",
   "language": "python",
   "name": "python3"
  },
  "language_info": {
   "codemirror_mode": {
    "name": "ipython",
    "version": 3
   },
   "file_extension": ".py",
   "mimetype": "text/x-python",
   "name": "python",
   "nbconvert_exporter": "python",
   "pygments_lexer": "ipython3",
   "version": "3.9.7"
  }
 },
 "nbformat": 4,
 "nbformat_minor": 5
}
